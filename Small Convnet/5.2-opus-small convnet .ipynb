{
 "cells": [
  {
   "cell_type": "code",
   "execution_count": 1,
   "metadata": {},
   "outputs": [],
   "source": [
    "#Objective:\n",
    "# val acc ~72% normally on a small dataset\n",
    "#To counter over-fitting, use dropout (?), weight decay (L2 regularization) and data augmentation\n",
    "# val acc due to drop out and augmentation increased to ~82\n",
    "# next to further improve: use a pre-trained convnet model!\n",
    "# A pre-trained model, trained on a larger set. A generic model develops features that can\n",
    "#be used even on a small data problem\n",
    "#2 ways to use it: 1) feature extraction 2 options 2) fine-tuning\n",
    "#we are using VGG16 pre-trained model architechture (ResNet, Inception, Xception etc are others)"
   ]
  },
  {
   "cell_type": "code",
   "execution_count": null,
   "metadata": {},
   "outputs": [],
   "source": [
    "#THIS IS SMALL CONVNET EXAMPLE"
   ]
  },
  {
   "cell_type": "code",
   "execution_count": 1,
   "metadata": {},
   "outputs": [
    {
     "name": "stdout",
     "output_type": "stream",
     "text": [
      "python version: 3.6.10 |Anaconda, Inc.| (default, Jan  7 2020, 21:14:29) \n",
      "[GCC 7.3.0]\n",
      "tf_version: 1.14.0\n",
      "keras version: 2.2.4-tf\n",
      "keras version on its own: 2.2.4\n",
      "GPU Status: False\n"
     ]
    },
    {
     "name": "stderr",
     "output_type": "stream",
     "text": [
      "Using TensorFlow backend.\n"
     ]
    },
    {
     "data": {
      "text/plain": [
       "\"\\n# Or only check for gpu's with cuda support\\ntf.test.is_gpu_available(cuda_only=True) \\nfrom tensorflow.python.client import device_lib\\nprint(device_lib.list_local_devices())\\n\""
      ]
     },
     "execution_count": 1,
     "metadata": {},
     "output_type": "execute_result"
    }
   ],
   "source": [
    "#System Check\n",
    "import sys;print('python version:',sys.version) \n",
    "import tensorflow as tf;print('tf_version:',tf.__version__) #tf: 2.1 \n",
    "from tensorflow import keras; print('keras version:',keras.__version__) \n",
    "import keras \n",
    "print(\"keras version on its own:\",keras.__version__) #tf keras and keras library can have different versions\n",
    "from tensorflow.python.platform import build_info as tf_build_info \n",
    "#print('CUDA Version:',tf_build_info.cuda_version_number) \n",
    "#print('CUDNN Version:',tf_build_info.cudnn_version_number)\n",
    "\n",
    "import tensorflow as tf\n",
    "tf.test.is_gpu_available() # True/False\n",
    "print(\"GPU Status:\",tf.test.is_gpu_available())\n",
    "\n",
    "#Releases the python gpu memory\n",
    "from numba import cuda\n",
    "cuda.select_device(0)\n",
    "cuda.close()\n",
    "\n",
    "\"\"\"\n",
    "# Or only check for gpu's with cuda support\n",
    "tf.test.is_gpu_available(cuda_only=True) \n",
    "from tensorflow.python.client import device_lib\n",
    "print(device_lib.list_local_devices())\n",
    "\"\"\""
   ]
  },
  {
   "cell_type": "code",
   "execution_count": 3,
   "metadata": {},
   "outputs": [
    {
     "name": "stdout",
     "output_type": "stream",
     "text": [
      "train images:  160\n",
      "val images:  20\n",
      "test images:  20\n"
     ]
    }
   ],
   "source": [
    "import os, shutil\n",
    "\n",
    "#source\n",
    "original_dataset_dir='/home/oj/Downloads//all_4_in_one'\n",
    "\n",
    "\n",
    "#destination\n",
    "base_dir = '/home/oj/Downloads//all_4_in_one_small'\n",
    "os.mkdir(base_dir)\n",
    "\n",
    "####Create train, validation and test folders and sub-folders. Keras needs sub-folders:https://blog.keras.io/building-powerful-image-classification-models-using-very-little-data.html\n",
    "# Create a Test Dir##### #create a folder \"train\": os.path.join gets path and the name of the new directory#os.mkdir(directory_name_path) makes it#You have to error check whether the folder already exist\n",
    "train_dir = os.path.join(original_dataset_dir, 'train') \n",
    "if os.path.exists(train_dir):\n",
    "    pass #does nothing\n",
    "else :\n",
    "    os.mkdir(train_dir)\n",
    "\n",
    "train_sub_dir = os.path.join(train_dir, 'train_sub') \n",
    "if os.path.exists(train_sub_dir):\n",
    "    pass #does nothing\n",
    "else :\n",
    "    os.mkdir(train_sub_dir)\n",
    "    \n",
    "# #####Create a Validation Dir#####\n",
    "validation_dir = os.path.join(original_dataset_dir, 'validation') \n",
    "if os.path.exists(validation_dir):\n",
    "    pass #does nothing\n",
    "else :\n",
    "    os.mkdir(validation_dir)\n",
    "\n",
    "validation_sub_dir = os.path.join(validation_dir, 'validation_sub') \n",
    "if os.path.exists(validation_sub_dir):\n",
    "    pass #does nothing\n",
    "else :\n",
    "    os.mkdir(validation_sub_dir)\n",
    "\n",
    "# ####Create a Test Dir#####\n",
    "test_dir = os.path.join(original_dataset_dir, 'test') \n",
    "if os.path.exists(test_dir):\n",
    "    pass #does nothing\n",
    "else :\n",
    "    os.mkdir(test_dir)\n",
    "\n",
    "test_sub_dir = os.path.join(test_dir, 'test_sub') \n",
    "if os.path.exists(test_sub_dir):\n",
    "    pass #does nothing\n",
    "else :\n",
    "    os.mkdir(test_sub_dir)\n",
    "    \n",
    "\n",
    "####5.2.2 - Images are Not Randomly Saved. Copies images from main folder to respective train,val and test #####\n",
    "#Train\n",
    "fnames = ['{}.jpg'.format(i) for i in range(1,161)] #range(start, stop-1)\n",
    "for fname in fnames:\n",
    "    src = os.path.join(original_dataset_dir, fname)\n",
    "    dst = os.path.join(train_sub_dir, fname)\n",
    "    shutil.copyfile(src, dst)\n",
    "#Validation\n",
    "fnames = ['{}.jpg'.format(i) for i in range(161,181)] #range(start, stop-1)\n",
    "for fname in fnames:\n",
    "    src = os.path.join(original_dataset_dir, fname)\n",
    "    dst = os.path.join(validation_sub_dir, fname)\n",
    "    shutil.copyfile(src, dst)\n",
    "#Test\n",
    "fnames = ['{}.jpg'.format(i) for i in range(181,201)] #range(start, stop-1)\n",
    "for fname in fnames:\n",
    "    src = os.path.join(original_dataset_dir, fname)\n",
    "    dst = os.path.join(test_sub_dir, fname)\n",
    "    shutil.copyfile(src, dst)\n",
    "\n",
    "print('train images: ',len(os.listdir(train_sub_dir)))\n",
    "print('val images: ',len(os.listdir(validation_sub_dir)))\n",
    "print('test images: ',len(os.listdir(test_sub_dir)))\n"
   ]
  },
  {
   "cell_type": "code",
   "execution_count": 4,
   "metadata": {},
   "outputs": [
    {
     "name": "stdout",
     "output_type": "stream",
     "text": [
      "_________________________________________________________________\n",
      "Layer (type)                 Output Shape              Param #   \n",
      "=================================================================\n",
      "conv2d_1 (Conv2D)            (None, 148, 148, 32)      896       \n",
      "_________________________________________________________________\n",
      "max_pooling2d_1 (MaxPooling2 (None, 74, 74, 32)        0         \n",
      "_________________________________________________________________\n",
      "conv2d_2 (Conv2D)            (None, 72, 72, 64)        18496     \n",
      "_________________________________________________________________\n",
      "max_pooling2d_2 (MaxPooling2 (None, 36, 36, 64)        0         \n",
      "_________________________________________________________________\n",
      "conv2d_3 (Conv2D)            (None, 34, 34, 128)       73856     \n",
      "_________________________________________________________________\n",
      "max_pooling2d_3 (MaxPooling2 (None, 17, 17, 128)       0         \n",
      "_________________________________________________________________\n",
      "conv2d_4 (Conv2D)            (None, 15, 15, 128)       147584    \n",
      "_________________________________________________________________\n",
      "max_pooling2d_4 (MaxPooling2 (None, 7, 7, 128)         0         \n",
      "_________________________________________________________________\n",
      "flatten_1 (Flatten)          (None, 6272)              0         \n",
      "_________________________________________________________________\n",
      "dense_1 (Dense)              (None, 512)               3211776   \n",
      "_________________________________________________________________\n",
      "dense_2 (Dense)              (None, 1)                 513       \n",
      "=================================================================\n",
      "Total params: 3,453,121\n",
      "Trainable params: 3,453,121\n",
      "Non-trainable params: 0\n",
      "_________________________________________________________________\n"
     ]
    }
   ],
   "source": [
    "#Model\n",
    "from keras import layers\n",
    "from keras import models\n",
    "\n",
    "model = models.Sequential()\n",
    "model.add(layers.Conv2D(32, (3, 3), activation='relu',\n",
    "                        input_shape=(150, 150, 3))) #input shape is arbitray choice. The actual cat/dog images are greather than this size\n",
    "model.add(layers.MaxPooling2D((2, 2)))\n",
    "model.add(layers.Conv2D(64, (3, 3), activation='relu'))\n",
    "model.add(layers.MaxPooling2D((2, 2)))\n",
    "model.add(layers.Conv2D(128, (3, 3), activation='relu'))\n",
    "model.add(layers.MaxPooling2D((2, 2)))\n",
    "model.add(layers.Conv2D(128, (3, 3), activation='relu')) #one more convnet and max pooling layer from 5.1 example. This augments the network and resuces the size of the feature map so they are not too large when they reach the flatten layer\n",
    "model.add(layers.MaxPooling2D((2, 2)))\n",
    "model.add(layers.Flatten())\n",
    "model.add(layers.Dense(512, activation='relu')) #network of 512 dense layers\n",
    "model.add(layers.Dense(1, activation='sigmoid')) #either cat or dog\n",
    "model.summary() #depth of the feature map is increasing from 32 to 128 but the size is decreasing from 148*148 to 7*7"
   ]
  },
  {
   "cell_type": "code",
   "execution_count": 5,
   "metadata": {},
   "outputs": [
    {
     "name": "stdout",
     "output_type": "stream",
     "text": [
      "WARNING:tensorflow:From /home/oj/anaconda3/lib/python3.6/site-packages/keras/optimizers.py:790: The name tf.train.Optimizer is deprecated. Please use tf.compat.v1.train.Optimizer instead.\n",
      "\n",
      "WARNING:tensorflow:From /home/oj/anaconda3/lib/python3.6/site-packages/tensorflow/python/ops/nn_impl.py:180: add_dispatch_support.<locals>.wrapper (from tensorflow.python.ops.array_ops) is deprecated and will be removed in a future version.\n",
      "Instructions for updating:\n",
      "Use tf.where in 2.0, which has the same broadcast rule as np.where\n"
     ]
    }
   ],
   "source": [
    "#model compile: setting the loss function; optimizer\n",
    "from keras import optimizers\n",
    "#Making network/model ready for training\n",
    "model.compile(loss='binary_crossentropy',\n",
    "              optimizer=optimizers.RMSprop(lr=1e-4),\n",
    "              metrics=['acc']) #Metrics to monitor during training and testing—Here, we’ll only care about accuracy(the fraction of the images that were correctly classified).\n"
   ]
  },
  {
   "cell_type": "code",
   "execution_count": 6,
   "metadata": {},
   "outputs": [
    {
     "name": "stdout",
     "output_type": "stream",
     "text": [
      "Found 160 images belonging to 1 classes.\n",
      "Found 20 images belonging to 1 classes.\n",
      "data batch shape: (20, 150, 150, 3)\n",
      "labels batch shape: (20,)\n"
     ]
    }
   ],
   "source": [
    "#Data pre-processing. Requires following:\n",
    "#jpg>RGB channels>floating point tensors> normalize or rescale the pixel values from 0-255 to [0,1]\n",
    "#Keras' IamgeDataGenerator class takes care of that\n",
    "#by this step, should give you the input image as a tensor and associated labels for training\n",
    "\n",
    "from keras.preprocessing.image import ImageDataGenerator\n",
    "\n",
    "# All images will be rescaled by 1./255\n",
    "train_datagen = ImageDataGenerator(rescale=1./255)\n",
    "test_datagen = ImageDataGenerator(rescale=1./255)\n",
    "\n",
    "train_generator = train_datagen.flow_from_directory(\n",
    "        train_dir, # This is the target directory\n",
    "        target_size=(150, 150),# All images will be resized to 150x150\n",
    "        batch_size=20, #every epoch, 2000 images are drawn in a batch of 20, 100 times\n",
    "        class_mode='binary') # Since we use binary_crossentropy loss, we need binary labels\n",
    "\n",
    "validation_generator = test_datagen.flow_from_directory(\n",
    "        validation_dir,\n",
    "        target_size=(150, 150),\n",
    "        batch_size=20,\n",
    "        class_mode='binary')\n",
    "\n",
    "#check output of the tensors\n",
    "for data_batch, labels_batch in train_generator:\n",
    "    print('data batch shape:', data_batch.shape) #output is x samples of 150x150*RGB. where x is the batch size\n",
    "    print('labels batch shape:', labels_batch.shape) #binary labels. shape same as batch size\n",
    "    break"
   ]
  },
  {
   "cell_type": "code",
   "execution_count": 7,
   "metadata": {},
   "outputs": [
    {
     "name": "stdout",
     "output_type": "stream",
     "text": [
      "Epoch 1/30\n",
      "8/8 [==============================] - 6s 790ms/step - loss: 0.1467 - acc: 1.0000 - val_loss: 0.0019 - val_acc: 1.0000\n",
      "Epoch 2/30\n",
      "8/8 [==============================] - 6s 792ms/step - loss: 0.0012 - acc: 1.0000 - val_loss: 2.2747e-04 - val_acc: 1.0000\n",
      "Epoch 3/30\n",
      "8/8 [==============================] - 7s 814ms/step - loss: 2.4169e-04 - acc: 1.0000 - val_loss: 6.4337e-05 - val_acc: 1.0000\n",
      "Epoch 4/30\n",
      "8/8 [==============================] - 7s 822ms/step - loss: 9.0861e-05 - acc: 1.0000 - val_loss: 2.7274e-05 - val_acc: 1.0000\n",
      "Epoch 5/30\n",
      "8/8 [==============================] - 7s 837ms/step - loss: 4.3517e-05 - acc: 1.0000 - val_loss: 1.2308e-05 - val_acc: 1.0000\n",
      "Epoch 6/30\n",
      "8/8 [==============================] - 7s 847ms/step - loss: 2.2985e-05 - acc: 1.0000 - val_loss: 5.6034e-06 - val_acc: 1.0000\n",
      "Epoch 7/30\n",
      "8/8 [==============================] - 7s 861ms/step - loss: 1.1816e-05 - acc: 1.0000 - val_loss: 2.8920e-06 - val_acc: 1.0000\n",
      "Epoch 8/30\n",
      "8/8 [==============================] - 7s 853ms/step - loss: 7.1045e-06 - acc: 1.0000 - val_loss: 1.4394e-06 - val_acc: 1.0000\n",
      "Epoch 9/30\n",
      "8/8 [==============================] - 7s 849ms/step - loss: 4.1817e-06 - acc: 1.0000 - val_loss: 7.4198e-07 - val_acc: 1.0000\n",
      "Epoch 10/30\n",
      "8/8 [==============================] - 7s 859ms/step - loss: 2.2604e-06 - acc: 1.0000 - val_loss: 4.3076e-07 - val_acc: 1.0000\n",
      "Epoch 11/30\n",
      "8/8 [==============================] - 7s 855ms/step - loss: 1.4581e-06 - acc: 1.0000 - val_loss: 2.7944e-07 - val_acc: 1.0000\n",
      "Epoch 12/30\n",
      "8/8 [==============================] - 7s 842ms/step - loss: 9.6336e-07 - acc: 1.0000 - val_loss: 2.0029e-07 - val_acc: 1.0000\n",
      "Epoch 13/30\n",
      "8/8 [==============================] - 7s 837ms/step - loss: 6.5963e-07 - acc: 1.0000 - val_loss: 1.5636e-07 - val_acc: 1.0000\n",
      "Epoch 14/30\n",
      "8/8 [==============================] - 7s 865ms/step - loss: 4.8377e-07 - acc: 1.0000 - val_loss: 1.3134e-07 - val_acc: 1.0000\n",
      "Epoch 15/30\n",
      "8/8 [==============================] - 7s 827ms/step - loss: 3.7371e-07 - acc: 1.0000 - val_loss: 1.2162e-07 - val_acc: 1.0000\n",
      "Epoch 16/30\n",
      "8/8 [==============================] - 7s 856ms/step - loss: 2.8663e-07 - acc: 1.0000 - val_loss: 1.1454e-07 - val_acc: 1.0000\n",
      "Epoch 17/30\n",
      "8/8 [==============================] - 7s 846ms/step - loss: 2.3528e-07 - acc: 1.0000 - val_loss: 1.0520e-07 - val_acc: 1.0000\n",
      "Epoch 18/30\n",
      "8/8 [==============================] - 7s 853ms/step - loss: 1.8620e-07 - acc: 1.0000 - val_loss: 1.0301e-07 - val_acc: 1.0000\n",
      "Epoch 19/30\n",
      "8/8 [==============================] - 7s 839ms/step - loss: 1.6362e-07 - acc: 1.0000 - val_loss: 1.0072e-07 - val_acc: 1.0000\n",
      "Epoch 20/30\n",
      "8/8 [==============================] - 7s 859ms/step - loss: 1.4658e-07 - acc: 1.0000 - val_loss: 1.0000e-07 - val_acc: 1.0000\n",
      "Epoch 21/30\n",
      "8/8 [==============================] - 7s 849ms/step - loss: 1.5804e-07 - acc: 1.0000 - val_loss: 1.0000e-07 - val_acc: 1.0000\n",
      "Epoch 22/30\n",
      "8/8 [==============================] - 7s 850ms/step - loss: 1.0258e-07 - acc: 1.0000 - val_loss: 1.0072e-07 - val_acc: 1.0000\n",
      "Epoch 23/30\n",
      "8/8 [==============================] - 7s 850ms/step - loss: 1.2040e-07 - acc: 1.0000 - val_loss: 1.0000e-07 - val_acc: 1.0000\n",
      "Epoch 24/30\n",
      "8/8 [==============================] - 7s 858ms/step - loss: 1.1562e-07 - acc: 1.0000 - val_loss: 1.0000e-07 - val_acc: 1.0000\n",
      "Epoch 25/30\n",
      "8/8 [==============================] - 7s 854ms/step - loss: 1.1060e-07 - acc: 1.0000 - val_loss: 1.0000e-07 - val_acc: 1.0000\n",
      "Epoch 26/30\n",
      "8/8 [==============================] - 7s 865ms/step - loss: 1.0918e-07 - acc: 1.0000 - val_loss: 1.0000e-07 - val_acc: 1.0000\n",
      "Epoch 27/30\n",
      "8/8 [==============================] - 7s 862ms/step - loss: 1.0732e-07 - acc: 1.0000 - val_loss: 1.0000e-07 - val_acc: 1.0000\n",
      "Epoch 28/30\n",
      "8/8 [==============================] - 7s 876ms/step - loss: 1.0534e-07 - acc: 1.0000 - val_loss: 1.0000e-07 - val_acc: 1.0000\n",
      "Epoch 29/30\n",
      "8/8 [==============================] - 7s 882ms/step - loss: 1.0490e-07 - acc: 1.0000 - val_loss: 1.0000e-07 - val_acc: 1.0000\n",
      "Epoch 30/30\n",
      "8/8 [==============================] - 7s 862ms/step - loss: 1.0639e-07 - acc: 1.0000 - val_loss: 1.0000e-07 - val_acc: 1.0000\n"
     ]
    }
   ],
   "source": [
    "#fitting the data (answers, input images) into the model/network is the same as training it\n",
    "history = model.fit_generator( #model.fit - we name it history? interesting\n",
    "      train_generator, #aboove train generator\n",
    "      steps_per_epoch=8, #samples per epoch. total train_images/batch_size. Our case 2000/20=100; 2000 is cat+dog; takes these many gradien steps before going to the next epoch\n",
    "      epochs=30,\n",
    "      validation_data=validation_generator, #can be tuple or a data generator; but if latter then you should specify val_steps that tell the process how many batches to draw from the validation generator; otherwise, goes on forever\n",
    "      validation_steps=20)"
   ]
  },
  {
   "cell_type": "code",
   "execution_count": 8,
   "metadata": {},
   "outputs": [],
   "source": [
    "#Save ya model - good practice\n",
    "model.save('opus_small_convnet.h5')\n",
    "model.to_json()\n",
    "model.save_weights('opus_smallconvnet_weights.h5')"
   ]
  },
  {
   "cell_type": "code",
   "execution_count": 8,
   "metadata": {},
   "outputs": [
    {
     "data": {
      "image/png": "[encoded data removed]",
      "text/plain": [
       "<Figure size 432x288 with 1 Axes>"
      ]
     },
     "metadata": {
      "needs_background": "light"
     },
     "output_type": "display_data"
    },
    {
     "data": {
      "image/png": "[encoded data removed]",
      "text/plain": [
       "<Figure size 432x288 with 1 Axes>"
      ]
     },
     "metadata": {
      "needs_background": "light"
     },
     "output_type": "display_data"
    }
   ],
   "source": [
    "#plot the loss and accuracy of the model over the training and validation data during training\n",
    "\n",
    "import matplotlib.pyplot as plt\n",
    "\n",
    "acc = history.history['acc']\n",
    "val_acc = history.history['val_acc']\n",
    "loss = history.history['loss']\n",
    "val_loss = history.history['val_loss']\n",
    "\n",
    "epochs = range(len(acc))\n",
    "\n",
    "plt.plot(epochs, acc, 'bo', label='Training acc')\n",
    "plt.plot(epochs, val_acc, 'b', label='Validation acc')\n",
    "plt.title('Training and validation accuracy')\n",
    "plt.legend()\n",
    "\n",
    "plt.figure()\n",
    "\n",
    "plt.plot(epochs, loss, 'bo', label='Training loss')\n",
    "plt.plot(epochs, val_loss, 'b', label='Validation loss')\n",
    "plt.title('Training and validation loss')\n",
    "plt.legend()\n",
    "\n",
    "plt.show()\n",
    "#0.1 in y-axis is 10%; x-axis=epochs\n",
    "#This plot is characteristic of over-fitting.\n",
    "#Validation accuracy caps at 0.7 and loss increases over the epochs. \n",
    "#Why do we not see that with training? Is it because training images 2000 are double in number 1000?\n",
    "#To couter over-fitting, use dropout, weight decay (L2 regularization) and data augmentation"
   ]
  },
  {
   "cell_type": "code",
   "execution_count": 9,
   "metadata": {},
   "outputs": [
    {
     "name": "stdout",
     "output_type": "stream",
     "text": [
      "Found 20 images belonging to 1 classes.\n",
      "test acc: 1.0\n"
     ]
    }
   ],
   "source": [
    "test_generator = test_datagen.flow_from_directory(\n",
    "        test_dir,\n",
    "        target_size=(150, 150),\n",
    "        batch_size=20,\n",
    "        class_mode='binary')\n",
    "\n",
    "test_loss, test_acc = model.evaluate_generator(test_generator, steps=50)\n",
    "print('test acc:', test_acc)"
   ]
  },
  {
   "cell_type": "code",
   "execution_count": null,
   "metadata": {},
   "outputs": [],
   "source": []
  }
 ],
 "metadata": {
  "kernelspec": {
   "display_name": "Python 3",
   "language": "python",
   "name": "python3"
  },
  "language_info": {
   "codemirror_mode": {
    "name": "ipython",
    "version": 3
   },
   "file_extension": ".py",
   "mimetype": "text/x-python",
   "name": "python",
   "nbconvert_exporter": "python",
   "pygments_lexer": "ipython3",
   "version": "3.6.10"
  }
 },
 "nbformat": 4,
 "nbformat_minor": 4
}
