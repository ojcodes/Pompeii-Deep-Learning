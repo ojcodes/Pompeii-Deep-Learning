{
 "cells": [
  {
   "cell_type": "code",
   "execution_count": 1,
   "metadata": {},
   "outputs": [],
   "source": [
    "#Objective:\n",
    "# val acc ~72% normally on a small dataset\n",
    "#To counter over-fitting, use dropout (?), weight decay (L2 regularization) and data augmentation\n",
    "# val acc due to drop out and augmentation increased to ~82\n",
    "# next to further improve: use a pre-trained convnet model!\n",
    "# A pre-trained model, trained on a larger set. A generic model develops features that can\n",
    "#be used even on a small data problem\n",
    "#2 ways to use it: 1) feature extraction 2 options 2) fine-tuning\n",
    "#we are using VGG16 pre-trained model architechture (ResNet, Inception, Xception etc are others)"
   ]
  },
  {
   "cell_type": "code",
   "execution_count": null,
   "metadata": {},
   "outputs": [],
   "source": [
    "#THIS IS SMALL CONVNET EXAMPLE"
   ]
  },
  {
   "cell_type": "code",
   "execution_count": 1,
   "metadata": {},
   "outputs": [
    {
     "name": "stdout",
     "output_type": "stream",
     "text": [
      "python version: 3.6.10 |Anaconda, Inc.| (default, Jan  7 2020, 21:14:29) \n",
      "[GCC 7.3.0]\n",
      "tf_version: 1.14.0\n",
      "keras version: 2.2.4-tf\n",
      "keras version on its own: 2.2.4\n",
      "GPU Status: False\n"
     ]
    },
    {
     "name": "stderr",
     "output_type": "stream",
     "text": [
      "Using TensorFlow backend.\n"
     ]
    },
    {
     "data": {
      "text/plain": [
       "\"\\n# Or only check for gpu's with cuda support\\ntf.test.is_gpu_available(cuda_only=True) \\nfrom tensorflow.python.client import device_lib\\nprint(device_lib.list_local_devices())\\n\""
      ]
     },
     "execution_count": 1,
     "metadata": {},
     "output_type": "execute_result"
    }
   ],
   "source": [
    "#System Check\n",
    "import sys;print('python version:',sys.version) \n",
    "import tensorflow as tf;print('tf_version:',tf.__version__) #tf: 2.1 \n",
    "from tensorflow import keras; print('keras version:',keras.__version__) \n",
    "import keras \n",
    "print(\"keras version on its own:\",keras.__version__) #tf keras and keras library can have different versions\n",
    "from tensorflow.python.platform import build_info as tf_build_info \n",
    "#print('CUDA Version:',tf_build_info.cuda_version_number) \n",
    "#print('CUDNN Version:',tf_build_info.cudnn_version_number)\n",
    "\n",
    "import tensorflow as tf\n",
    "tf.test.is_gpu_available() # True/False\n",
    "print(\"GPU Status:\",tf.test.is_gpu_available())\n",
    "\n",
    "#Releases the python gpu memory\n",
    "from numba import cuda\n",
    "cuda.select_device(0)\n",
    "cuda.close()\n",
    "\n",
    "\"\"\"\n",
    "# Or only check for gpu's with cuda support\n",
    "tf.test.is_gpu_available(cuda_only=True) \n",
    "from tensorflow.python.client import device_lib\n",
    "print(device_lib.list_local_devices())\n",
    "\"\"\""
   ]
  },
  {
   "cell_type": "code",
   "execution_count": 5,
   "metadata": {},
   "outputs": [],
   "source": [
    "import os, shutil\n",
    "\n",
    "#img_folder\n",
    "original_dataset_dir='/home/oj/Downloads/4types_images/all'\n",
    "\n",
    "\n",
    "\n",
    "####Create train, validation and test folders and sub-folders. Keras needs sub-folders:https://blog.keras.io/building-powerful-image-classification-models-using-very-little-data.html\n",
    "# Create a Test Dir##### #create a folder \"train\": os.path.join gets path and the name of the new directory#os.mkdir(directory_name_path) makes it#You have to error check whether the folder already exist\n",
    "\n",
    "############Create High level train, val and test folders and sub-folders####\n",
    "train_dir = os.path.join(original_dataset_dir, 'train') \n",
    "if os.path.exists(train_dir):\n",
    "    pass #does nothing\n",
    "else :\n",
    "    os.mkdir(train_dir)\n",
    "\n",
    "train_sub_dir = os.path.join(train_dir, 'train_sub') \n",
    "if os.path.exists(train_sub_dir):\n",
    "    pass #does nothing\n",
    "else :\n",
    "    os.mkdir(train_sub_dir)\n",
    "    \n",
    "# #####Create a Validation Dir#####\n",
    "validation_dir = os.path.join(original_dataset_dir, 'validation') \n",
    "if os.path.exists(validation_dir):\n",
    "    pass #does nothing\n",
    "else :\n",
    "    os.mkdir(validation_dir)\n",
    "\n",
    "validation_sub_dir = os.path.join(validation_dir, 'validation_sub') \n",
    "if os.path.exists(validation_sub_dir):\n",
    "    pass #does nothing\n",
    "else :\n",
    "    os.mkdir(validation_sub_dir)\n",
    "\n",
    "####Create a Test Dir#####\n",
    "test_dir = os.path.join(original_dataset_dir, 'test') \n",
    "if os.path.exists(test_dir):\n",
    "    pass #does nothing\n",
    "else :\n",
    "    os.mkdir(test_dir)\n",
    "\n",
    "test_sub_dir = os.path.join(test_dir, 'test_sub') \n",
    "if os.path.exists(test_sub_dir):\n",
    "    pass #does nothing\n",
    "else :\n",
    "    os.mkdir(test_sub_dir)\n",
    "    \n",
    "#####################################sub-directories of each type######\n",
    "\n",
    "############################## 4 training folders ###################   \n",
    "# Directory with our training incertum pictures\n",
    "train_incertum_dir = os.path.join(train_sub_dir, 'incertum')\n",
    "#os.mkdir(train_incertum_dir)\n",
    "\n",
    "# Directory with our training latericium pictures\n",
    "train_latericium_dir = os.path.join(train_sub_dir, 'latericium')\n",
    "#os.mkdir(train_latericium_dir)\n",
    "    \n",
    "# Directory with our training vittatum pictures\n",
    "train_vittatum_dir = os.path.join(train_sub_dir, 'vittatum')\n",
    "#os.mkdir(train_vittatum_dir)\n",
    "    \n",
    "# Directory with our training vittatum_mixtumpictures\n",
    "train_vittatum_mixtum_dir = os.path.join(train_sub_dir, 'vittatum_mixtum')\n",
    "#os.mkdir(train_vittatum_mixtum_dir)\n",
    "\n",
    "\n",
    "############################## 4 validation folders ###################   \n",
    "# Directory with our training incertum pictures\n",
    "validation_incertum_dir = os.path.join(validation_sub_dir, 'incertum')\n",
    "#os.mkdir(validation_incertum_dir)\n",
    "\n",
    "# Directory with our training latericium pictures\n",
    "validation_latericium_dir = os.path.join(validation_sub_dir, 'latericium')\n",
    "#os.mkdir(validation_latericium_dir)\n",
    "    \n",
    "# Directory with our training vittatum pictures\n",
    "validation_vittatum_dir = os.path.join(validation_sub_dir, 'vittatum')\n",
    "#os.mkdir(validation_vittatum_dir)\n",
    "    \n",
    "# Directory with our training vittatum_mixtump pictures\n",
    "validation_vittatum_mixtum_dir = os.path.join(validation_sub_dir, 'vittatum_mixtum')\n",
    "#os.mkdir(validation_vittatum_mixtum_dir)\n",
    "\n",
    "\n",
    "############################## 4 test folders ###################      \n",
    "# Directory with our training incertum pictures\n",
    "test_incertum_dir = os.path.join(test_sub_dir, 'incertum')\n",
    "#os.mkdir(test_incertum_dir)\n",
    "\n",
    "# Directory with our training latericium pictures\n",
    "test_latericium_dir = os.path.join(test_sub_dir, 'latericium')\n",
    "#os.mkdir(test_latericium_dir)\n",
    "    \n",
    "# Directory with our training vittatum pictures\n",
    "test_vittatum_dir = os.path.join(test_sub_dir, 'vittatum')\n",
    "#os.mkdir(test_vittatum_dir)\n",
    "    \n",
    "# Directory with our training vittatum_mixtump pictures\n",
    "test_vittatum_mixtum_dir = os.path.join(test_sub_dir, 'vittatum_mixtum')\n",
    "#os.mkdir(test_vittatum_mixtum_dir)\n",
    "\n",
    "\n"
   ]
  },
  {
   "cell_type": "code",
   "execution_count": 31,
   "metadata": {},
   "outputs": [
    {
     "ename": "FileNotFoundError",
     "evalue": "[Errno 2] No such file or directory: '/home/oj/Downloads/4types_images/all/incertum1.jpg'",
     "output_type": "error",
     "traceback": [
      "\u001b[0;31m---------------------------------------------------------------------------\u001b[0m",
      "\u001b[0;31mFileNotFoundError\u001b[0m                         Traceback (most recent call last)",
      "\u001b[0;32m<ipython-input-31-9043405c163a>\u001b[0m in \u001b[0;36m<module>\u001b[0;34m\u001b[0m\n\u001b[1;32m      8\u001b[0m     \u001b[0msrc\u001b[0m \u001b[0;34m=\u001b[0m \u001b[0mos\u001b[0m\u001b[0;34m.\u001b[0m\u001b[0mpath\u001b[0m\u001b[0;34m.\u001b[0m\u001b[0mjoin\u001b[0m\u001b[0;34m(\u001b[0m\u001b[0moriginal_dataset_dir\u001b[0m\u001b[0;34m,\u001b[0m \u001b[0mfname\u001b[0m\u001b[0;34m)\u001b[0m\u001b[0;34m\u001b[0m\u001b[0;34m\u001b[0m\u001b[0m\n\u001b[1;32m      9\u001b[0m     \u001b[0mdst\u001b[0m \u001b[0;34m=\u001b[0m \u001b[0mos\u001b[0m\u001b[0;34m.\u001b[0m\u001b[0mpath\u001b[0m\u001b[0;34m.\u001b[0m\u001b[0mjoin\u001b[0m\u001b[0;34m(\u001b[0m\u001b[0mtrain_incertum_dir\u001b[0m\u001b[0;34m,\u001b[0m \u001b[0mfname\u001b[0m\u001b[0;34m)\u001b[0m\u001b[0;34m\u001b[0m\u001b[0;34m\u001b[0m\u001b[0m\n\u001b[0;32m---> 10\u001b[0;31m     \u001b[0mshutil\u001b[0m\u001b[0;34m.\u001b[0m\u001b[0mcopyfile\u001b[0m\u001b[0;34m(\u001b[0m\u001b[0msrc\u001b[0m\u001b[0;34m,\u001b[0m \u001b[0mdst\u001b[0m\u001b[0;34m)\u001b[0m\u001b[0;34m\u001b[0m\u001b[0;34m\u001b[0m\u001b[0m\n\u001b[0m\u001b[1;32m     11\u001b[0m \u001b[0;31m#Validation\u001b[0m\u001b[0;34m\u001b[0m\u001b[0;34m\u001b[0m\u001b[0;34m\u001b[0m\u001b[0m\n\u001b[1;32m     12\u001b[0m \u001b[0mfnames\u001b[0m \u001b[0;34m=\u001b[0m \u001b[0;34m[\u001b[0m\u001b[0;34m'incertum{}.jpg'\u001b[0m\u001b[0;34m.\u001b[0m\u001b[0mformat\u001b[0m\u001b[0;34m(\u001b[0m\u001b[0mi\u001b[0m\u001b[0;34m)\u001b[0m \u001b[0;32mfor\u001b[0m \u001b[0mi\u001b[0m \u001b[0;32min\u001b[0m \u001b[0mrange\u001b[0m\u001b[0;34m(\u001b[0m\u001b[0;36m161\u001b[0m\u001b[0;34m,\u001b[0m\u001b[0;36m181\u001b[0m\u001b[0;34m)\u001b[0m\u001b[0;34m]\u001b[0m \u001b[0;31m#range(start, stop-1)\u001b[0m\u001b[0;34m\u001b[0m\u001b[0;34m\u001b[0m\u001b[0m\n",
      "\u001b[0;32m~/anaconda3/lib/python3.6/shutil.py\u001b[0m in \u001b[0;36mcopyfile\u001b[0;34m(src, dst, follow_symlinks)\u001b[0m\n\u001b[1;32m    118\u001b[0m         \u001b[0mos\u001b[0m\u001b[0;34m.\u001b[0m\u001b[0msymlink\u001b[0m\u001b[0;34m(\u001b[0m\u001b[0mos\u001b[0m\u001b[0;34m.\u001b[0m\u001b[0mreadlink\u001b[0m\u001b[0;34m(\u001b[0m\u001b[0msrc\u001b[0m\u001b[0;34m)\u001b[0m\u001b[0;34m,\u001b[0m \u001b[0mdst\u001b[0m\u001b[0;34m)\u001b[0m\u001b[0;34m\u001b[0m\u001b[0;34m\u001b[0m\u001b[0m\n\u001b[1;32m    119\u001b[0m     \u001b[0;32melse\u001b[0m\u001b[0;34m:\u001b[0m\u001b[0;34m\u001b[0m\u001b[0;34m\u001b[0m\u001b[0m\n\u001b[0;32m--> 120\u001b[0;31m         \u001b[0;32mwith\u001b[0m \u001b[0mopen\u001b[0m\u001b[0;34m(\u001b[0m\u001b[0msrc\u001b[0m\u001b[0;34m,\u001b[0m \u001b[0;34m'rb'\u001b[0m\u001b[0;34m)\u001b[0m \u001b[0;32mas\u001b[0m \u001b[0mfsrc\u001b[0m\u001b[0;34m:\u001b[0m\u001b[0;34m\u001b[0m\u001b[0;34m\u001b[0m\u001b[0m\n\u001b[0m\u001b[1;32m    121\u001b[0m             \u001b[0;32mwith\u001b[0m \u001b[0mopen\u001b[0m\u001b[0;34m(\u001b[0m\u001b[0mdst\u001b[0m\u001b[0;34m,\u001b[0m \u001b[0;34m'wb'\u001b[0m\u001b[0;34m)\u001b[0m \u001b[0;32mas\u001b[0m \u001b[0mfdst\u001b[0m\u001b[0;34m:\u001b[0m\u001b[0;34m\u001b[0m\u001b[0;34m\u001b[0m\u001b[0m\n\u001b[1;32m    122\u001b[0m                 \u001b[0mcopyfileobj\u001b[0m\u001b[0;34m(\u001b[0m\u001b[0mfsrc\u001b[0m\u001b[0;34m,\u001b[0m \u001b[0mfdst\u001b[0m\u001b[0;34m)\u001b[0m\u001b[0;34m\u001b[0m\u001b[0;34m\u001b[0m\u001b[0m\n",
      "\u001b[0;31mFileNotFoundError\u001b[0m: [Errno 2] No such file or directory: '/home/oj/Downloads/4types_images/all/incertum1.jpg'"
     ]
    }
   ],
   "source": [
    "####5.2.2 - Images are Not Randomly Saved. Copies images from main folder to respective train,val and test #####\n",
    "\n",
    "\n",
    "#################incertum#########################3\n",
    "#Train\n",
    "fnames = ['incertum{}.jpg'.format(i) for i in range(1,161)] #range(start, stop-1)\n",
    "for fname in fnames:\n",
    "    src = os.path.join(original_dataset_dir, fname)\n",
    "    dst = os.path.join(train_incertum_dir, fname)\n",
    "    shutil.copyfile(src, dst)\n",
    "#Validation\n",
    "fnames = ['incertum{}.jpg'.format(i) for i in range(161,181)] #range(start, stop-1)\n",
    "for fname in fnames:\n",
    "    src = os.path.join(original_dataset_dir, fname)\n",
    "    dst = os.path.join(validation_incertum_dir, fname)\n",
    "    shutil.copyfile(src, dst)\n",
    "#Test\n",
    "fnames = ['incertum{}.jpg'.format(i) for i in range(181,201)] #range(start, stop-1)\n",
    "for fname in fnames:\n",
    "    src = os.path.join(original_dataset_dir, fname)\n",
    "    dst = os.path.join(test_incertum_dir, fname)\n",
    "    shutil.copyfile(src, dst)\n",
    "\n",
    "print('incertum train images: ',len(os.listdir(train_incertum_dir)))\n",
    "print('incertum val images: ',len(os.listdir(validation_incertum_dir)))\n",
    "print('incertum test images: ',len(os.listdir(test_incertum_dir)))\n",
    "\n",
    "#################latericium#########################3\n",
    "#Train\n",
    "fnames = ['latericium{}.jpg'.format(i) for i in range(1,41)] #range(start, stop-1)\n",
    "for fname in fnames:\n",
    "    src = os.path.join(original_dataset_dir, fname)\n",
    "    dst = os.path.join(train_latericium_dir, fname)\n",
    "    shutil.copyfile(src, dst)\n",
    "#Validation\n",
    "fnames = ['latericium{}.jpg'.format(i) for i in range(41,51)] #range(start, stop-1)\n",
    "for fname in fnames:\n",
    "    src = os.path.join(original_dataset_dir, fname)\n",
    "    dst = os.path.join(validation_latericium_dir, fname)\n",
    "    shutil.copyfile(src, dst)\n",
    "#Test\n",
    "fnames = ['latericium{}.jpg'.format(i) for i in range(51,61)] #range(start, stop-1)\n",
    "for fname in fnames:\n",
    "    src = os.path.join(original_dataset_dir, fname)\n",
    "    dst = os.path.join(test_latericium_dir, fname)\n",
    "    shutil.copyfile(src, dst)\n",
    "\n",
    "print('latericium train images: ',len(os.listdir(train_latericium_dir)))\n",
    "print('latericium val images: ',len(os.listdir(validation_latericium_dir)))\n",
    "print('latericium test images: ',len(os.listdir(test_latericium_dir)))\n",
    "\n",
    "\n",
    "#################vittatum#########################3\n",
    "#Train\n",
    "fnames = ['vittatum{}.jpg'.format(i) for i in range(1,18)] #range(start, stop-1)\n",
    "for fname in fnames:\n",
    "    src = os.path.join(original_dataset_dir, fname)\n",
    "    dst = os.path.join(train_vittatum_dir, fname)\n",
    "    shutil.copyfile(src, dst)\n",
    "#Validation\n",
    "fnames = ['vittatum{}.jpg'.format(i) for i in range(18,22)] #range(start, stop-1)\n",
    "for fname in fnames:\n",
    "    src = os.path.join(original_dataset_dir, fname)\n",
    "    dst = os.path.join(validation_vittatum_dir, fname)\n",
    "    shutil.copyfile(src, dst)\n",
    "#Test\n",
    "fnames = ['vittatum{}.jpg'.format(i) for i in range(22,26)] #range(start, stop-1)\n",
    "for fname in fnames:\n",
    "    src = os.path.join(original_dataset_dir, fname)\n",
    "    dst = os.path.join(test_vittatum_dir, fname)\n",
    "    shutil.copyfile(src, dst)\n",
    "\n",
    "print('vittatum train images: ',len(os.listdir(train_vittatum_dir)))\n",
    "print('vittatum val images: ',len(os.listdir(validation_vittatum_dir)))\n",
    "print('vittatum test images: ',len(os.listdir(test_vittatum_dir)))\n",
    "\n",
    "\n",
    "#################vittatum_mixtum#########################3\n",
    "#Train\n",
    "fnames = ['vittatum_mixtum{}.jpg'.format(i) for i in range(1,32)] #range(start, stop-1)\n",
    "for fname in fnames:\n",
    "    src = os.path.join(original_dataset_dir, fname)\n",
    "    dst = os.path.join(train_vittatum_mixtum_dir, fname)\n",
    "    shutil.copyfile(src, dst)\n",
    "#Validation\n",
    "fnames = ['vittatum_mixtum{}.jpg'.format(i) for i in range(32,36)] #range(start, stop-1)\n",
    "for fname in fnames:\n",
    "    src = os.path.join(original_dataset_dir, fname)\n",
    "    dst = os.path.join(validation_vittatum_mixtum_dir, fname)\n",
    "    shutil.copyfile(src, dst)\n",
    "#Test\n",
    "fnames = ['vittatum_mixtum{}.jpg'.format(i) for i in range(36,40)] #range(start, stop-1)\n",
    "for fname in fnames:\n",
    "    src = os.path.join(original_dataset_dir, fname)\n",
    "    dst = os.path.join(test_vittatum_mixtum_dir, fname)\n",
    "    shutil.copyfile(src, dst)\n",
    "\n",
    "print('vittatum_mixtum train images: ',len(os.listdir(train_vittatum_mixtum_dir)))\n",
    "print('vittatum_mixtum val images: ',len(os.listdir(validation_vittatum_mixtum_dir)))\n",
    "print('vittatum_mixtum test images: ',len(os.listdir(test_vittatum_mixtum_dir)))\n"
   ]
  },
  {
   "cell_type": "code",
   "execution_count": 3,
   "metadata": {},
   "outputs": [
    {
     "name": "stdout",
     "output_type": "stream",
     "text": [
      "_________________________________________________________________\n",
      "Layer (type)                 Output Shape              Param #   \n",
      "=================================================================\n",
      "input_2 (InputLayer)         (None, 150, 150, 3)       0         \n",
      "_________________________________________________________________\n",
      "block1_conv1 (Conv2D)        (None, 150, 150, 64)      1792      \n",
      "_________________________________________________________________\n",
      "block1_conv2 (Conv2D)        (None, 150, 150, 64)      36928     \n",
      "_________________________________________________________________\n",
      "block1_pool (MaxPooling2D)   (None, 75, 75, 64)        0         \n",
      "_________________________________________________________________\n",
      "block2_conv1 (Conv2D)        (None, 75, 75, 128)       73856     \n",
      "_________________________________________________________________\n",
      "block2_conv2 (Conv2D)        (None, 75, 75, 128)       147584    \n",
      "_________________________________________________________________\n",
      "block2_pool (MaxPooling2D)   (None, 37, 37, 128)       0         \n",
      "_________________________________________________________________\n",
      "block3_conv1 (Conv2D)        (None, 37, 37, 256)       295168    \n",
      "_________________________________________________________________\n",
      "block3_conv2 (Conv2D)        (None, 37, 37, 256)       590080    \n",
      "_________________________________________________________________\n",
      "block3_conv3 (Conv2D)        (None, 37, 37, 256)       590080    \n",
      "_________________________________________________________________\n",
      "block3_pool (MaxPooling2D)   (None, 18, 18, 256)       0         \n",
      "_________________________________________________________________\n",
      "block4_conv1 (Conv2D)        (None, 18, 18, 512)       1180160   \n",
      "_________________________________________________________________\n",
      "block4_conv2 (Conv2D)        (None, 18, 18, 512)       2359808   \n",
      "_________________________________________________________________\n",
      "block4_conv3 (Conv2D)        (None, 18, 18, 512)       2359808   \n",
      "_________________________________________________________________\n",
      "block4_pool (MaxPooling2D)   (None, 9, 9, 512)         0         \n",
      "_________________________________________________________________\n",
      "block5_conv1 (Conv2D)        (None, 9, 9, 512)         2359808   \n",
      "_________________________________________________________________\n",
      "block5_conv2 (Conv2D)        (None, 9, 9, 512)         2359808   \n",
      "_________________________________________________________________\n",
      "block5_conv3 (Conv2D)        (None, 9, 9, 512)         2359808   \n",
      "_________________________________________________________________\n",
      "block5_pool (MaxPooling2D)   (None, 4, 4, 512)         0         \n",
      "=================================================================\n",
      "Total params: 14,714,688\n",
      "Trainable params: 14,714,688\n",
      "Non-trainable params: 0\n",
      "_________________________________________________________________\n"
     ]
    }
   ],
   "source": [
    "#Model\n",
    "from keras.applications import VGG16\n",
    "\n",
    "conv_base = VGG16(weights='imagenet',\n",
    "                  include_top=False,\n",
    "                  input_shape=(150, 150, 3))\n",
    "conv_base.summary()"
   ]
  },
  {
   "cell_type": "code",
   "execution_count": 30,
   "metadata": {},
   "outputs": [
    {
     "ename": "NameError",
     "evalue": "name 'Flatten' is not defined",
     "output_type": "error",
     "traceback": [
      "\u001b[0;31m---------------------------------------------------------------------------\u001b[0m",
      "\u001b[0;31mNameError\u001b[0m                                 Traceback (most recent call last)",
      "\u001b[0;32m<ipython-input-30-54672f3e5043>\u001b[0m in \u001b[0;36m<module>\u001b[0;34m\u001b[0m\n\u001b[1;32m      4\u001b[0m \u001b[0;34m\u001b[0m\u001b[0m\n\u001b[1;32m      5\u001b[0m \u001b[0mmodel\u001b[0m \u001b[0;34m=\u001b[0m \u001b[0mmodels\u001b[0m\u001b[0;34m.\u001b[0m\u001b[0mSequential\u001b[0m\u001b[0;34m(\u001b[0m\u001b[0;34m)\u001b[0m\u001b[0;34m\u001b[0m\u001b[0;34m\u001b[0m\u001b[0m\n\u001b[0;32m----> 6\u001b[0;31m \u001b[0mmodel\u001b[0m\u001b[0;34m.\u001b[0m\u001b[0madd\u001b[0m\u001b[0;34m(\u001b[0m\u001b[0mFlatten\u001b[0m\u001b[0;34m(\u001b[0m\u001b[0minput_shape\u001b[0m\u001b[0;34m=\u001b[0m\u001b[0mtrain_data\u001b[0m\u001b[0;34m.\u001b[0m\u001b[0mshape\u001b[0m\u001b[0;34m[\u001b[0m\u001b[0;36m1\u001b[0m\u001b[0;34m:\u001b[0m\u001b[0;34m]\u001b[0m\u001b[0;34m)\u001b[0m\u001b[0;34m)\u001b[0m\u001b[0;34m\u001b[0m\u001b[0;34m\u001b[0m\u001b[0m\n\u001b[0m\u001b[1;32m      7\u001b[0m \u001b[0mmodel\u001b[0m\u001b[0;34m.\u001b[0m\u001b[0madd\u001b[0m\u001b[0;34m(\u001b[0m\u001b[0mDense\u001b[0m\u001b[0;34m(\u001b[0m\u001b[0;36m100\u001b[0m\u001b[0;34m,\u001b[0m \u001b[0mactivation\u001b[0m\u001b[0;34m=\u001b[0m\u001b[0mkeras\u001b[0m\u001b[0;34m.\u001b[0m\u001b[0mlayers\u001b[0m\u001b[0;34m.\u001b[0m\u001b[0mLeakyReLU\u001b[0m\u001b[0;34m(\u001b[0m\u001b[0malpha\u001b[0m\u001b[0;34m=\u001b[0m\u001b[0;36m0.3\u001b[0m\u001b[0;34m)\u001b[0m\u001b[0;34m)\u001b[0m\u001b[0;34m)\u001b[0m\u001b[0;34m\u001b[0m\u001b[0;34m\u001b[0m\u001b[0m\n\u001b[1;32m      8\u001b[0m \u001b[0mmodel\u001b[0m\u001b[0;34m.\u001b[0m\u001b[0madd\u001b[0m\u001b[0;34m(\u001b[0m\u001b[0mDropout\u001b[0m\u001b[0;34m(\u001b[0m\u001b[0;36m0.5\u001b[0m\u001b[0;34m)\u001b[0m\u001b[0;34m)\u001b[0m\u001b[0;34m\u001b[0m\u001b[0;34m\u001b[0m\u001b[0m\n",
      "\u001b[0;31mNameError\u001b[0m: name 'Flatten' is not defined"
     ]
    }
   ],
   "source": []
  },
  {
   "cell_type": "code",
   "execution_count": 59,
   "metadata": {},
   "outputs": [
    {
     "name": "stdout",
     "output_type": "stream",
     "text": [
      "Epoch 1/30\n",
      "5/5 [==============================] - 1s 199ms/step - loss: 0.3029 - acc: 0.6493 - val_loss: 6.3872 - val_acc: 0.5417\n",
      "Epoch 2/30\n",
      "5/5 [==============================] - 1s 179ms/step - loss: 0.2128 - acc: 0.7400 - val_loss: 6.8471 - val_acc: 0.5435\n",
      "Epoch 3/30\n",
      "5/5 [==============================] - 1s 188ms/step - loss: 0.2911 - acc: 0.5800 - val_loss: 6.7234 - val_acc: 0.5625\n",
      "Epoch 4/30\n",
      "5/5 [==============================] - 1s 183ms/step - loss: 0.2853 - acc: 0.6000 - val_loss: 6.9860 - val_acc: 0.5000\n",
      "Epoch 5/30\n",
      "5/5 [==============================] - 1s 186ms/step - loss: 1.2341 - acc: 0.6800 - val_loss: 5.0573 - val_acc: 0.5417\n",
      "Epoch 6/30\n",
      "5/5 [==============================] - 1s 172ms/step - loss: 1.3529 - acc: 0.6653 - val_loss: 4.7983 - val_acc: 0.5000\n",
      "Epoch 7/30\n",
      "5/5 [==============================] - 1s 182ms/step - loss: 1.2891 - acc: 0.5800 - val_loss: 6.5146 - val_acc: 0.4792\n",
      "Epoch 8/30\n",
      "5/5 [==============================] - 1s 183ms/step - loss: 1.2512 - acc: 0.6000 - val_loss: 7.1904 - val_acc: 0.5625\n",
      "Epoch 9/30\n",
      "5/5 [==============================] - 1s 200ms/step - loss: 1.1592 - acc: 0.7400 - val_loss: 8.1969 - val_acc: 0.5000\n",
      "Epoch 10/30\n",
      "5/5 [==============================] - 1s 186ms/step - loss: 1.9163 - acc: 0.6000 - val_loss: 5.8442 - val_acc: 0.5652\n",
      "Epoch 11/30\n",
      "5/5 [==============================] - 1s 175ms/step - loss: 0.9006 - acc: 0.6535 - val_loss: 6.2590 - val_acc: 0.5625\n",
      "Epoch 12/30\n",
      "5/5 [==============================] - 1s 188ms/step - loss: 0.4090 - acc: 0.7200 - val_loss: 5.7352 - val_acc: 0.5000\n",
      "Epoch 13/30\n",
      "5/5 [==============================] - 1s 189ms/step - loss: 0.3985 - acc: 0.6000 - val_loss: 6.0222 - val_acc: 0.5208\n",
      "Epoch 14/30\n",
      "5/5 [==============================] - 1s 190ms/step - loss: 0.2663 - acc: 0.7200 - val_loss: 7.0983 - val_acc: 0.5217\n",
      "Epoch 15/30\n",
      "5/5 [==============================] - 1s 196ms/step - loss: 0.9304 - acc: 0.6000 - val_loss: 7.7771 - val_acc: 0.5208\n",
      "Epoch 16/30\n",
      "5/5 [==============================] - 1s 183ms/step - loss: 0.4064 - acc: 0.6410 - val_loss: 5.9823 - val_acc: 0.5417\n",
      "Epoch 17/30\n",
      "5/5 [==============================] - 1s 195ms/step - loss: 0.3978 - acc: 0.6400 - val_loss: 4.9656 - val_acc: 0.5625\n",
      "Epoch 18/30\n",
      "5/5 [==============================] - 1s 193ms/step - loss: 0.3221 - acc: 0.6800 - val_loss: 6.3797 - val_acc: 0.4783\n",
      "Epoch 19/30\n",
      "5/5 [==============================] - 1s 200ms/step - loss: 0.3165 - acc: 0.6000 - val_loss: 6.8631 - val_acc: 0.5000\n",
      "Epoch 20/30\n",
      "5/5 [==============================] - 1s 206ms/step - loss: 0.2778 - acc: 0.6400 - val_loss: 6.0075 - val_acc: 0.5833\n",
      "Epoch 21/30\n",
      "5/5 [==============================] - 1s 185ms/step - loss: 0.3721 - acc: 0.7056 - val_loss: 5.6703 - val_acc: 0.5625\n",
      "Epoch 22/30\n",
      "5/5 [==============================] - 1s 204ms/step - loss: 0.3444 - acc: 0.5400 - val_loss: 7.6013 - val_acc: 0.4565\n",
      "Epoch 23/30\n",
      "5/5 [==============================] - 1s 207ms/step - loss: 0.2773 - acc: 0.6600 - val_loss: 6.3091 - val_acc: 0.5625\n",
      "Epoch 24/30\n",
      "5/5 [==============================] - 1s 198ms/step - loss: 0.2704 - acc: 0.6400 - val_loss: 7.6441 - val_acc: 0.4792\n",
      "Epoch 25/30\n",
      "5/5 [==============================] - 1s 195ms/step - loss: 0.3753 - acc: 0.6200 - val_loss: 5.7117 - val_acc: 0.5417\n",
      "Epoch 26/30\n",
      "5/5 [==============================] - 1s 192ms/step - loss: 0.8902 - acc: 0.6979 - val_loss: 7.7460 - val_acc: 0.5217\n",
      "Epoch 27/30\n",
      "5/5 [==============================] - 1s 201ms/step - loss: 0.2577 - acc: 0.7000 - val_loss: 7.2063 - val_acc: 0.5208\n",
      "Epoch 28/30\n",
      "5/5 [==============================] - 1s 197ms/step - loss: 0.2780 - acc: 0.6400 - val_loss: 5.2917 - val_acc: 0.6042\n",
      "Epoch 29/30\n",
      "5/5 [==============================] - 1s 205ms/step - loss: 0.2885 - acc: 0.6600 - val_loss: 8.6280 - val_acc: 0.4583\n",
      "Epoch 30/30\n",
      "5/5 [==============================] - 1s 196ms/step - loss: 0.2895 - acc: 0.6200 - val_loss: 7.0411 - val_acc: 0.5217\n"
     ]
    }
   ],
   "source": [
    "#fitting the data (answers, input images) into the model/network is the same as training it\n",
    "history = model.fit_generator( #model.fit - we name it history? interesting\n",
    "      train_generator, #aboove train generator\n",
    "      steps_per_epoch=5, #samples per epoch. total train_images/batch_size. Our case 2000/20=100; 2000 is cat+dog; takes these many gradien steps before going to the next epoch\n",
    "      epochs=30,\n",
    "      validation_data=validation_generator, #can be tuple or a data generator; but if latter then you should specify val_steps that tell the process how many batches to draw from the validation generator; otherwise, goes on forever\n",
    "      validation_steps=5)"
   ]
  },
  {
   "cell_type": "code",
   "execution_count": 60,
   "metadata": {},
   "outputs": [],
   "source": [
    "#Save ya model - good practice\n",
    "model.save('opus_4_classes_small_convnet.h5')\n",
    "model.save_weights('opus_4_classes_small_convnet_weights.h5')"
   ]
  },
  {
   "cell_type": "code",
   "execution_count": 61,
   "metadata": {},
   "outputs": [
    {
     "data": {
      "image/png": "[encoded data removed]",
      "text/plain": [
       "<matplotlib.figure.Figure at 0x7f091c03b7f0>"
      ]
     },
     "metadata": {
      "needs_background": "light"
     },
     "output_type": "display_data"
    },
    {
     "data": {
      "image/png": "[encoded data removed]",
      "text/plain": [
       "<matplotlib.figure.Figure at 0x7f08ec7d8eb8>"
      ]
     },
     "metadata": {
      "needs_background": "light"
     },
     "output_type": "display_data"
    }
   ],
   "source": [
    "#plot the loss and accuracy of the model over the training and validation data during training\n",
    "\n",
    "import matplotlib.pyplot as plt\n",
    "\n",
    "acc = history.history['acc']\n",
    "val_acc = history.history['val_acc']\n",
    "loss = history.history['loss']\n",
    "val_loss = history.history['val_loss']\n",
    "\n",
    "epochs = range(len(acc))\n",
    "\n",
    "plt.plot(epochs, acc, 'bo', label='Training acc')\n",
    "plt.plot(epochs, val_acc, 'b', label='Validation acc')\n",
    "plt.title('Training and validation accuracy')\n",
    "plt.legend()\n",
    "\n",
    "plt.figure()\n",
    "\n",
    "plt.plot(epochs, loss, 'bo', label='Training loss')\n",
    "plt.plot(epochs, val_loss, 'b', label='Validation loss')\n",
    "plt.title('Training and validation loss')\n",
    "plt.legend()\n",
    "\n",
    "plt.show()\n",
    "#0.1 in y-axis is 10%; x-axis=epochs\n",
    "#This plot is characteristic of over-fitting.\n",
    "#Validation accuracy caps at 0.7 and loss increases over the epochs. \n",
    "#Why do we not see that with training? Is it because training images 2000 are double in number 1000?\n",
    "#To couter over-fitting, use dropout, weight decay (L2 regularization) and data augmentation"
   ]
  },
  {
   "cell_type": "code",
   "execution_count": 62,
   "metadata": {},
   "outputs": [
    {
     "data": {
      "image/png": "[encoded data removed]",
      "text/plain": [
       "<matplotlib.figure.Figure at 0x7f091c0896a0>"
      ]
     },
     "metadata": {
      "needs_background": "light"
     },
     "output_type": "display_data"
    },
    {
     "data": {
      "image/png": "[encoded data removed]",
      "text/plain": [
       "<matplotlib.figure.Figure at 0x7f08ec6c1128>"
      ]
     },
     "metadata": {
      "needs_background": "light"
     },
     "output_type": "display_data"
    }
   ],
   "source": [
    "#making above graphs smoother. This is done by replacing every loss and accuracy with exponential moving averages\n",
    "#This is for readability\n",
    "\n",
    "def smooth_curve(points, factor=0.8):\n",
    "  smoothed_points = []\n",
    "  for point in points:\n",
    "    if smoothed_points:\n",
    "      previous = smoothed_points[-1]\n",
    "      smoothed_points.append(previous * factor + point * (1 - factor))\n",
    "    else:\n",
    "      smoothed_points.append(point)\n",
    "  return smoothed_points\n",
    "\n",
    "plt.plot(epochs,\n",
    "         smooth_curve(acc), 'bo', label='Smoothed training acc')\n",
    "plt.plot(epochs,\n",
    "         smooth_curve(val_acc), 'b', label='Smoothed validation acc')\n",
    "plt.title('Training and validation accuracy')\n",
    "plt.legend()\n",
    "\n",
    "plt.figure()\n",
    "\n",
    "plt.plot(epochs,\n",
    "         smooth_curve(loss), 'bo', label='Smoothed training loss')\n",
    "plt.plot(epochs,\n",
    "         smooth_curve(val_loss), 'b', label='Smoothed validation loss')\n",
    "plt.title('Training and validation loss')\n",
    "plt.legend()\n",
    "\n",
    "plt.show()"
   ]
  },
  {
   "cell_type": "code",
   "execution_count": 65,
   "metadata": {},
   "outputs": [
    {
     "name": "stdout",
     "output_type": "stream",
     "text": [
      "Found 38 images belonging to 4 classes.\n",
      "test acc: 0.525210096242548\n"
     ]
    }
   ],
   "source": [
    "test_generator = test_datagen.flow_from_directory(\n",
    "        test_sub_dir,\n",
    "        target_size=(150, 150),\n",
    "        batch_size=5,\n",
    "        class_mode='categorical')\n",
    "\n",
    "test_loss, test_acc = model.evaluate_generator(test_generator, steps=50)\n",
    "print('test acc:', test_acc)"
   ]
  },
  {
   "cell_type": "code",
   "execution_count": 66,
   "metadata": {},
   "outputs": [
    {
     "name": "stdout",
     "output_type": "stream",
     "text": [
      "Found 38 images belonging to 4 classes.\n",
      "validation acc: 0.5252100981834555\n"
     ]
    }
   ],
   "source": [
    "test_generator = test_datagen.flow_from_directory(\n",
    "        validation_sub_dir,\n",
    "        target_size=(150, 150),\n",
    "        batch_size=5,\n",
    "        class_mode='categorical')\n",
    "\n",
    "test_loss, test_acc = model.evaluate_generator(test_generator, steps=50)\n",
    "print('validation acc:', test_acc)"
   ]
  },
  {
   "cell_type": "code",
   "execution_count": null,
   "metadata": {},
   "outputs": [],
   "source": []
  }
 ],
 "metadata": {
  "kernelspec": {
   "display_name": "Python 3",
   "language": "python",
   "name": "python3"
  },
  "language_info": {
   "codemirror_mode": {
    "name": "ipython",
    "version": 3
   },
   "file_extension": ".py",
   "mimetype": "text/x-python",
   "name": "python",
   "nbconvert_exporter": "python",
   "pygments_lexer": "ipython3",
   "version": "3.6.10"
  }
 },
 "nbformat": 4,
 "nbformat_minor": 4
}
